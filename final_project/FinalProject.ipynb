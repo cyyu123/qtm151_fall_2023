{
 "cells": [
  {
   "cell_type": "code",
   "execution_count": 1,
   "metadata": {},
   "outputs": [],
   "source": [
    "import numpy as np\n",
    "import pandas as pd\n",
    "import matplotlib.pyplot as plt"
   ]
  },
  {
   "cell_type": "code",
   "execution_count": 10,
   "metadata": {},
   "outputs": [
    {
     "name": "stdout",
     "output_type": "stream",
     "text": [
      "\n",
      "Number of observations for drivers: 857\n",
      "\n",
      "Number of observations for driver_standings: 33902\n",
      "\n",
      "Number of observations for qualifying: 9575\n",
      "\n",
      "Number of observations for results: 25840\n",
      "\n",
      "Number of observations for sprint_results: 120\n",
      "\n",
      "Number of observations for seasons: 74\n"
     ]
    }
   ],
   "source": [
    "# Datasets are stored in the 'Formula1-DatasetFull/raw_data/' directory\n",
    "directory = 'Formula1-DatasetFull/raw_data/'\n",
    "\n",
    "list_datasets = ['drivers', 'driver_standings', 'qualifying', 'results', 'sprint_results', 'seasons']\n",
    "\n",
    "for dataset_name in list_datasets:\n",
    "    # Load the dataset into a DataFrame\n",
    "    dataset = pd.read_csv(f'{directory}{dataset_name}.csv')\n",
    "    # Get the number of observations\n",
    "    num_observations = dataset.shape[0]\n",
    "    # Print the result\n",
    "    print(f\"\\nNumber of observations for {dataset_name}: {num_observations}\")"
   ]
  },
  {
   "cell_type": "code",
   "execution_count": 21,
   "metadata": {},
   "outputs": [
    {
     "name": "stdout",
     "output_type": "stream",
     "text": [
      "\n",
      "Number of years covered in the 'seasons' dataset: 74\n",
      "\n",
      "Sorted unique years in the 'seasons' dataset:\n",
      "1950, 1951, 1952, 1953, 1954, 1955, 1956, 1957\n",
      "1958, 1959, 1960, 1961, 1962, 1963, 1964, 1965\n",
      "1966, 1967, 1968, 1969, 1970, 1971, 1972, 1973\n",
      "1974, 1975, 1976, 1977, 1978, 1979, 1980, 1981\n",
      "1982, 1983, 1984, 1985, 1986, 1987, 1988, 1989\n",
      "1990, 1991, 1992, 1993, 1994, 1995, 1996, 1997\n",
      "1998, 1999, 2000, 2001, 2002, 2003, 2004, 2005\n",
      "2006, 2007, 2008, 2009, 2010, 2011, 2012, 2013\n",
      "2014, 2015, 2016, 2017, 2018, 2019, 2020, 2021\n",
      "2022, 2023\n"
     ]
    }
   ],
   "source": [
    "# The \"seasons\" dataset is stored in the 'Formula1-DatasetFull/raw_data/' directory\n",
    "directory = 'Formula1-DatasetFull/raw_data/'\n",
    "# Load the \"seasons\" dataset into a DataFrame\n",
    "seasons = pd.read_csv(f'{directory}seasons.csv')\n",
    "# Get the unique years in the 'year' column\n",
    "unique_years = seasons['year'].unique()\n",
    "# Get the number of unique years\n",
    "num_unique_years = len(unique_years)\n",
    "# Sort the unique years in ascending order\n",
    "sorted_unique_years = sorted(unique_years)\n",
    "#Print Results\n",
    "print(f\"\\nNumber of years covered in the 'seasons' dataset: {num_unique_years}\")\n",
    "print(\"\\nSorted unique years in the 'seasons' dataset:\")\n",
    "for i in range(0, len(sorted_unique_years), 8):\n",
    "    print(', '.join(map(str, sorted_unique_years[i:i+8])))\n"
   ]
  },
  {
   "cell_type": "markdown",
   "metadata": {},
   "source": [
    "<font size = \"3\">\n",
    "\n",
    "We are using the drivers, driver_standings, qualifying, results, and sprint_results dataset tables. There are 857 observations in the drivers dataset, with each row representing a different driver (a unique driverId). There are 33902 observations in the driver_standings dataset, with each row representing a \n",
    "There are 9575 observations for the qualifying dataset, with each row representing \n",
    "There are 25840 observations in the results dataset, with each row representing \n",
    "There are 120 observations in the sprint_results dataset, with each row representing\n",
    "There are 74 observations for the seasons dataset, with each row representing\n",
    "The years of the dataset range from 1950 to 2023, a total of 74 years."
   ]
  }
 ],
 "metadata": {
  "kernelspec": {
   "display_name": "qtm151",
   "language": "python",
   "name": "python3"
  },
  "language_info": {
   "codemirror_mode": {
    "name": "ipython",
    "version": 3
   },
   "file_extension": ".py",
   "mimetype": "text/x-python",
   "name": "python",
   "nbconvert_exporter": "python",
   "pygments_lexer": "ipython3",
   "version": "3.11.4"
  }
 },
 "nbformat": 4,
 "nbformat_minor": 2
}
